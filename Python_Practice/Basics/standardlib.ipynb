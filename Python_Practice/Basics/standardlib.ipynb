{
 "cells": [
  {
   "cell_type": "markdown",
   "metadata": {},
   "source": [
    "Standard library methods"
   ]
  },
  {
   "cell_type": "code",
   "execution_count": 214,
   "metadata": {},
   "outputs": [
    {
     "data": {
      "text/plain": [
       "int"
      ]
     },
     "execution_count": 214,
     "metadata": {},
     "output_type": "execute_result"
    }
   ],
   "source": [
    "# type uses\n",
    "\n",
    "x = 5\n",
    "type(x)"
   ]
  },
  {
   "cell_type": "code",
   "execution_count": 215,
   "metadata": {},
   "outputs": [
    {
     "data": {
      "text/plain": [
       "str"
      ]
     },
     "execution_count": 215,
     "metadata": {},
     "output_type": "execute_result"
    }
   ],
   "source": [
    "y = 'python'\n",
    "type(y)"
   ]
  },
  {
   "cell_type": "code",
   "execution_count": 216,
   "metadata": {},
   "outputs": [
    {
     "data": {
      "text/plain": [
       "float"
      ]
     },
     "execution_count": 216,
     "metadata": {},
     "output_type": "execute_result"
    }
   ],
   "source": [
    "z = 5.2\n",
    "type(z)"
   ]
  },
  {
   "cell_type": "code",
   "execution_count": 217,
   "metadata": {},
   "outputs": [
    {
     "data": {
      "text/plain": [
       "'Python'"
      ]
     },
     "execution_count": 217,
     "metadata": {},
     "output_type": "execute_result"
    }
   ],
   "source": [
    "x = 'python'\n",
    "x.capitalize()"
   ]
  },
  {
   "cell_type": "code",
   "execution_count": 218,
   "metadata": {},
   "outputs": [],
   "source": [
    "greet = 'Boda'\n",
    "name = 'Venkatesh'"
   ]
  },
  {
   "cell_type": "code",
   "execution_count": 219,
   "metadata": {},
   "outputs": [
    {
     "name": "stdout",
     "output_type": "stream",
     "text": [
      "BodaVenkatesh\n",
      "Boda Venkatesh\n"
     ]
    }
   ],
   "source": [
    "# concatenation\n",
    "print(greet + name)\n",
    "print(greet + ' ' + name)"
   ]
  },
  {
   "cell_type": "code",
   "execution_count": 220,
   "metadata": {},
   "outputs": [
    {
     "name": "stdout",
     "output_type": "stream",
     "text": [
      "[5, 10, 15]\n"
     ]
    }
   ],
   "source": [
    " # a list of three elements\n",
    "\n",
    "numbers = [5,10,15]\n",
    "print(numbers)"
   ]
  },
  {
   "cell_type": "code",
   "execution_count": 221,
   "metadata": {},
   "outputs": [
    {
     "name": "stdout",
     "output_type": "stream",
     "text": [
      "updated new numbers: [5, 10, 15, 20]\n"
     ]
    }
   ],
   "source": [
    "numbers.append(20)\n",
    "print('updated new numbers:', numbers)"
   ]
  },
  {
   "cell_type": "code",
   "execution_count": 222,
   "metadata": {},
   "outputs": [
    {
     "name": "stdout",
     "output_type": "stream",
     "text": [
      "new changes numbers: [5, 15, 20]\n"
     ]
    }
   ],
   "source": [
    "numbers.remove(10)\n",
    "print('new changes numbers:', numbers)"
   ]
  },
  {
   "cell_type": "code",
   "execution_count": 223,
   "metadata": {},
   "outputs": [
    {
     "name": "stdout",
     "output_type": "stream",
     "text": [
      "original colors: ['blue', 'black', 'red', 'green']\n",
      "after changing color repalcement: ['blue', 'violate', 'red', 'green']\n"
     ]
    }
   ],
   "source": [
    "colors = ['blue', 'black', 'red', 'green']\n",
    "print('original colors:', colors)\n",
    "\n",
    "## changing the second item to 'violate' (black to violate)\n",
    "colors[1] = 'violate'\n",
    "print('after changing color repalcement:', colors)"
   ]
  },
  {
   "cell_type": "code",
   "execution_count": 224,
   "metadata": {},
   "outputs": [
    {
     "name": "stdout",
     "output_type": "stream",
     "text": [
      "after adding color: ['blue', 'violate', 'red', 'green', 'pink']\n"
     ]
    }
   ],
   "source": [
    "#added color to third item\n",
    "colors.append('pink')\n",
    "\n",
    "print('after adding color:', colors)"
   ]
  },
  {
   "cell_type": "code",
   "execution_count": 225,
   "metadata": {},
   "outputs": [
    {
     "name": "stdout",
     "output_type": "stream",
     "text": [
      "colors total length  : 5\n",
      "blue color length    : 4\n",
      "violate color length : 7\n",
      "red color length     : 3\n",
      "green color length   : 5\n",
      "pink color length    : 4\n"
     ]
    }
   ],
   "source": [
    "#list lenth using command len()\n",
    "\n",
    "print('colors total length  :',  len(colors))\n",
    "print('blue color length    :',  len(colors[0]))\n",
    "print('violate color length :',  len(colors[1]))\n",
    "print('red color length     :',  len(colors[2]))\n",
    "print('green color length   :',  len(colors[3]))\n",
    "print('pink color length    :',  len(colors[4]))\n"
   ]
  },
  {
   "cell_type": "code",
   "execution_count": 226,
   "metadata": {},
   "outputs": [
    {
     "name": "stdout",
     "output_type": "stream",
     "text": [
      "blue\n",
      "violate\n",
      "red\n",
      "green\n",
      "pink\n"
     ]
    }
   ],
   "source": [
    "# iterate through the list\n",
    "for color in colors:\n",
    "    print(color)\n"
   ]
  },
  {
   "cell_type": "code",
   "execution_count": 227,
   "metadata": {},
   "outputs": [
    {
     "name": "stdout",
     "output_type": "stream",
     "text": [
      "original order list: ['blue', 'violate', 'red', 'green', 'pink']\n",
      "Reversed List: ['pink', 'green', 'red', 'violate', 'blue']\n"
     ]
    }
   ],
   "source": [
    "# reverse the order of list elements\n",
    "print('original order list:', colors)\n",
    "colors.reverse()\n",
    "print('Reversed List:', colors)"
   ]
  },
  {
   "cell_type": "code",
   "execution_count": 228,
   "metadata": {},
   "outputs": [
    {
     "name": "stdout",
     "output_type": "stream",
     "text": [
      "reverse order list: ['pink', 'green', 'red', 'violate', 'blue']\n",
      "Updated original order List: ['blue', 'violate', 'red', 'green', 'pink']\n"
     ]
    }
   ],
   "source": [
    "# Reversing a list using slicing operator\n",
    "print('reverse order list:', colors)\t\n",
    "# Syntax: reversed_list = colors[start:stop:step] \n",
    "reversed_list = colors[::-1]\n",
    "\n",
    "# updated list\n",
    "print('Updated original order List:', reversed_list)"
   ]
  },
  {
   "cell_type": "code",
   "execution_count": 229,
   "metadata": {},
   "outputs": [
    {
     "name": "stdout",
     "output_type": "stream",
     "text": [
      "original order number: [2, 6, 1, 5, 0]\n",
      "ascending order: [0, 1, 2, 5, 6]\n"
     ]
    }
   ],
   "source": [
    "#using sort list\n",
    "numbers = [2,6,1,5,0]\n",
    "print('original order number:', numbers)\n",
    "#sort the list of ascending order\n",
    "numbers.sort()\n",
    "print('ascending order:', numbers)"
   ]
  },
  {
   "cell_type": "code",
   "execution_count": 230,
   "metadata": {},
   "outputs": [
    {
     "name": "stdout",
     "output_type": "stream",
     "text": [
      "ascending order: [0, 1, 2, 5, 6]\n",
      "descending order: [6, 5, 2, 1, 0]\n"
     ]
    }
   ],
   "source": [
    "#sort the list of descending order\n",
    "print('ascending order:', numbers)\n",
    "\n",
    "# reverse is set to True\n",
    "numbers.sort(reverse = True)\n",
    "print('descending order:', numbers)"
   ]
  },
  {
   "cell_type": "code",
   "execution_count": 231,
   "metadata": {},
   "outputs": [
    {
     "name": "stdout",
     "output_type": "stream",
     "text": [
      "['date', 'apple', 'cherry']\n"
     ]
    }
   ],
   "source": [
    "fruits = ['apple', 'cherry', 'date']\n",
    "# stort strings based on their length results should be ['date', 'apple', cherry']\n",
    "\n",
    "fruits.sort(key = len)\n",
    "\n",
    "print(fruits)"
   ]
  },
  {
   "cell_type": "code",
   "execution_count": 232,
   "metadata": {},
   "outputs": [
    {
     "name": "stdout",
     "output_type": "stream",
     "text": [
      "original list: ['blue', 'black', 'red', 'green']\n",
      "disctionary oder: ['black', 'blue', 'green', 'red']\n"
     ]
    }
   ],
   "source": [
    "#using dictionary function\n",
    "colors = ['blue', 'black', 'red', 'green']\n",
    "print('original list:', colors)\n",
    "\n",
    "## sort in dictionary order\n",
    "\n",
    "colors.sort()\n",
    "print(f\"disctionary oder: {colors}\")"
   ]
  },
  {
   "cell_type": "code",
   "execution_count": 233,
   "metadata": {},
   "outputs": [
    {
     "name": "stdout",
     "output_type": "stream",
     "text": [
      "{1, 3, 7}\n",
      "{1, 2, 3, 4, 5, 7}\n",
      "{2, 5}\n",
      "False\n",
      "False\n",
      "False\n",
      "None\n",
      "{2, 4, 5}\n"
     ]
    }
   ],
   "source": [
    "#using set\n",
    "\n",
    "x = [1, 2, 3, 5, 7]\n",
    "y = [1,3,4,7]\n",
    "\n",
    "xs = set(x)\n",
    "ys = set(y)\n",
    "\n",
    "print(xs.intersection(ys))\n",
    "print(xs.union(ys))\n",
    "print(xs.difference(ys))\n",
    "print(xs.isdisjoint(ys))\n",
    "print(xs.issubset(ys))\n",
    "print(xs.issuperset(ys))\n",
    "print(xs.discard(ys))\n",
    "print(xs.symmetric_difference(ys))\n"
   ]
  },
  {
   "cell_type": "code",
   "execution_count": 234,
   "metadata": {},
   "outputs": [
    {
     "name": "stdout",
     "output_type": "stream",
     "text": [
      "<class 'list'>\n",
      "['CSE', 'IT']\n"
     ]
    }
   ],
   "source": [
    "branches= []\n",
    "print(type(branches))\n",
    "\n",
    "branches.append('CSE')\n",
    "branches.append('IT')\n",
    "print(branches)"
   ]
  },
  {
   "cell_type": "code",
   "execution_count": 235,
   "metadata": {},
   "outputs": [
    {
     "name": "stdout",
     "output_type": "stream",
     "text": [
      "['CSE', 'IT', 'EEE', 'MECHANICAL']\n"
     ]
    }
   ],
   "source": [
    "branches.append('EEE')\n",
    "branches.append('MECHANICAL')\n",
    "print(branches)"
   ]
  },
  {
   "cell_type": "code",
   "execution_count": 236,
   "metadata": {},
   "outputs": [
    {
     "name": "stdout",
     "output_type": "stream",
     "text": [
      "('CSE', 'IT', 'EEE', 'MECHANICAL')\n"
     ]
    }
   ],
   "source": [
    "#using tuple\n",
    "branch_tuple = tuple(branches)\n",
    "print(branch_tuple)"
   ]
  },
  {
   "cell_type": "markdown",
   "metadata": {},
   "source": [
    "Dictonary"
   ]
  },
  {
   "cell_type": "code",
   "execution_count": 237,
   "metadata": {},
   "outputs": [
    {
     "name": "stdout",
     "output_type": "stream",
     "text": [
      "{'CSE': 40, 'IT': 35, 'EEE': 45, 'MECHANICAL': 25}\n"
     ]
    }
   ],
   "source": [
    "branches = {'CSE': 40 , 'IT': 35, 'EEE': 45, 'MECHANICAL': 25}\n",
    "print(branches)"
   ]
  },
  {
   "cell_type": "code",
   "execution_count": 238,
   "metadata": {},
   "outputs": [
    {
     "name": "stdout",
     "output_type": "stream",
     "text": [
      "{'CSE': 40, 'IT': 35, 'EEE': 45, 'MECHANICAL': 25, 'ECE': 20}\n"
     ]
    }
   ],
   "source": [
    "branches['ECE'] = 20\n",
    "print(branches)"
   ]
  },
  {
   "cell_type": "code",
   "execution_count": 239,
   "metadata": {},
   "outputs": [
    {
     "data": {
      "text/plain": [
       "True"
      ]
     },
     "execution_count": 239,
     "metadata": {},
     "output_type": "execute_result"
    }
   ],
   "source": [
    "'EEE' in branches"
   ]
  },
  {
   "cell_type": "code",
   "execution_count": 240,
   "metadata": {},
   "outputs": [
    {
     "name": "stdout",
     "output_type": "stream",
     "text": [
      "CSE\n",
      "IT\n",
      "EEE\n",
      "MECHANICAL\n",
      "ECE\n"
     ]
    }
   ],
   "source": [
    "#iterative with names(keys)\n",
    "for item in branches:\n",
    "    print(item)"
   ]
  },
  {
   "cell_type": "code",
   "execution_count": 241,
   "metadata": {},
   "outputs": [
    {
     "name": "stdout",
     "output_type": "stream",
     "text": [
      "CSE ----> 40 \n",
      "IT ----> 35 \n",
      "EEE ----> 45 \n",
      "MECHANICAL ----> 25 \n",
      "ECE ----> 20 \n"
     ]
    }
   ],
   "source": [
    "#both name and value using disctonary method (f---> formatting method)\n",
    "\n",
    "for course, no_students in branches.items():\n",
    "    print(f\"{course} ----> {no_students} \")"
   ]
  },
  {
   "cell_type": "code",
   "execution_count": 263,
   "metadata": {},
   "outputs": [
    {
     "data": {
      "text/plain": [
       "str"
      ]
     },
     "execution_count": 263,
     "metadata": {},
     "output_type": "execute_result"
    }
   ],
   "source": [
    "bus = 'ts 10 ff 6852'\n",
    "type(bus)"
   ]
  }
 ],
 "metadata": {
  "kernelspec": {
   "display_name": "Python 3",
   "language": "python",
   "name": "python3"
  },
  "language_info": {
   "codemirror_mode": {
    "name": "ipython",
    "version": 3
   },
   "file_extension": ".py",
   "mimetype": "text/x-python",
   "name": "python",
   "nbconvert_exporter": "python",
   "pygments_lexer": "ipython3",
   "version": "3.13.1"
  }
 },
 "nbformat": 4,
 "nbformat_minor": 2
}
